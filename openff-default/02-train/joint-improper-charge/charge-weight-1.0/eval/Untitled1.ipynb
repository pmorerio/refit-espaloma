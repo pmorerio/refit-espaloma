{
 "cells": [
  {
   "cell_type": "markdown",
   "id": "1ad46d23-57dc-402d-83c2-c8f24a28c73c",
   "metadata": {},
   "source": [
    "# "
   ]
  },
  {
   "cell_type": "code",
   "execution_count": 1,
   "id": "ed8614a1-8080-43f4-a78a-82e71f0d84b7",
   "metadata": {},
   "outputs": [],
   "source": [
    "import numpy as np"
   ]
  },
  {
   "cell_type": "code",
   "execution_count": 81,
   "id": "ada23421-8e26-4680-bc05-92792f465713",
   "metadata": {},
   "outputs": [],
   "source": [
    "A = np.arange(5**3).reshape(5, 5, 5)\n",
    "B = np.arange(5**5).reshape(5, 5, 5, 5, 5)\n",
    "result = np.einsum('iji,aicde->acde', A, B)"
   ]
  },
  {
   "cell_type": "code",
   "execution_count": 84,
   "id": "0ba5f64a-42a9-4251-9ca6-611e4d216c33",
   "metadata": {},
   "outputs": [],
   "source": []
  },
  {
   "cell_type": "code",
   "execution_count": 87,
   "id": "680e5431-349a-4ec6-9b22-b2cc82791f25",
   "metadata": {},
   "outputs": [
    {
     "data": {
      "text/plain": [
       "285"
      ]
     },
     "execution_count": 87,
     "metadata": {},
     "output_type": "execute_result"
    }
   ],
   "source": [
    "A = np.arange(10)\n",
    "B = np.arange(10)\n",
    "\n",
    "np.einsum(\"i,i\", A, B)"
   ]
  },
  {
   "cell_type": "code",
   "execution_count": 89,
   "id": "2db1fe2b-67f8-47d6-85fc-9f2b7a527fd0",
   "metadata": {},
   "outputs": [
    {
     "data": {
      "text/plain": [
       "285"
      ]
     },
     "execution_count": 89,
     "metadata": {},
     "output_type": "execute_result"
    }
   ],
   "source": [
    "A @ B"
   ]
  },
  {
   "cell_type": "code",
   "execution_count": null,
   "id": "4b933074-e303-472d-a084-d27b1cc91833",
   "metadata": {},
   "outputs": [],
   "source": []
  }
 ],
 "metadata": {
  "kernelspec": {
   "display_name": "Python 3 (ipykernel)",
   "language": "python",
   "name": "python3"
  },
  "language_info": {
   "codemirror_mode": {
    "name": "ipython",
    "version": 3
   },
   "file_extension": ".py",
   "mimetype": "text/x-python",
   "name": "python",
   "nbconvert_exporter": "python",
   "pygments_lexer": "ipython3",
   "version": "3.11.6"
  }
 },
 "nbformat": 4,
 "nbformat_minor": 5
}
